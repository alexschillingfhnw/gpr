{
 "cells": [
  {
   "cell_type": "markdown",
   "id": "ef772cd2",
   "metadata": {},
   "source": [
    "## Part 1"
   ]
  },
  {
   "cell_type": "markdown",
   "id": "989da659",
   "metadata": {},
   "source": [
    "Now, you need to figure out how to pilot this thing.\n",
    "\n",
    "It seems like the submarine can take a series of commands like forward 1, down 2, or up 3:\n",
    "\n",
    "- forward X increases the horizontal position by X units.\n",
    "- down X increases the depth by X units.\n",
    "- up X decreases the depth by X units.\n",
    "\n",
    "Note that since you're on a submarine, down and up affect your depth, and so they have the opposite result of what you might expect.\n",
    "\n",
    "The submarine seems to already have a planned course (your puzzle input). You should probably figure out where it's going. For example:\n",
    "\n",
    "- forward 5\n",
    "- down 5\n",
    "- forward 8\n",
    "- up 3\n",
    "- down 8\n",
    "- forward 2"
   ]
  },
  {
   "cell_type": "markdown",
   "id": "5122051c",
   "metadata": {},
   "source": [
    "Your horizontal position and depth both start at 0. The steps above would then modify them as follows:\n",
    "\n",
    "- forward 5 adds 5 to your horizontal position, a total of 5.\n",
    "- down 5 adds 5 to your depth, resulting in a value of 5.\n",
    "- forward 8 adds 8 to your horizontal position, a total of 13.\n",
    "- up 3 decreases your depth by 3, resulting in a value of 2.\n",
    "- down 8 adds 8 to your depth, resulting in a value of 10.\n",
    "- forward 2 adds 2 to your horizontal position, a total of 15.\n",
    "\n",
    "After following these instructions, you would have a horizontal position of 15 and a depth of 10. (Multiplying these together produces 150.)\n",
    "\n",
    "Calculate the horizontal position and depth you would have after following the planned course. What do you get if you multiply your final horizontal position by your final depth?"
   ]
  },
  {
   "cell_type": "code",
   "execution_count": 19,
   "id": "8cbcf157",
   "metadata": {},
   "outputs": [],
   "source": [
    "def read_file(file):\n",
    "    with open(file, \"r\") as f:\n",
    "        lines = f.readlines()\n",
    "    return lines"
   ]
  },
  {
   "cell_type": "code",
   "execution_count": 20,
   "id": "8f562dd5",
   "metadata": {},
   "outputs": [],
   "source": [
    "def read_command(comm):\n",
    "    comm = comm.replace(\"\\n\", \"\")\n",
    "    comm = comm.split(\" \")\n",
    "    return comm"
   ]
  },
  {
   "cell_type": "code",
   "execution_count": 21,
   "id": "185bab4b",
   "metadata": {},
   "outputs": [
    {
     "name": "stdout",
     "output_type": "stream",
     "text": [
      "1804520\n"
     ]
    }
   ],
   "source": [
    "horizontal = 0\n",
    "depth = 0\n",
    "amount = 0\n",
    "direction = \"\"\n",
    "\n",
    "lines = read_file(\"2021_day2.txt\")\n",
    "\n",
    "for i in lines:\n",
    "    comm = read_command(i)\n",
    "    direction = comm[0]\n",
    "    amount = int(comm[1])    \n",
    "    \n",
    "    if direction == \"forward\":\n",
    "        horizontal += amount\n",
    "    elif direction == \"down\":\n",
    "        depth += amount\n",
    "    else:\n",
    "        depth -= amount\n",
    "    \n",
    "print(horizontal * depth)"
   ]
  },
  {
   "cell_type": "markdown",
   "id": "3147b94a",
   "metadata": {},
   "source": [
    "## Part 2"
   ]
  },
  {
   "cell_type": "markdown",
   "id": "c3927378",
   "metadata": {},
   "source": [
    "Based on your calculations, the planned course doesn't seem to make any sense. You find the submarine manual and discover that the process is actually slightly more complicated.\n",
    "\n",
    "In addition to horizontal position and depth, you'll also need to track a third value, aim, which also starts at 0. The commands also mean something entirely different than you first thought:\n",
    "\n",
    "- down X increases your aim by X units.\n",
    "- up X decreases your aim by X units.\n",
    "- forward X does two things:\n",
    "    - It increases your horizontal position by X units.\n",
    "    - It increases your depth by your aim multiplied by X.\n",
    "    \n",
    "Again note that since you're on a submarine, down and up do the opposite of what you might expect: \"down\" means aiming in the positive direction.\n",
    "\n",
    "Now, the above example does something different:\n",
    "\n",
    "- forward 5 adds 5 to your horizontal position, a total of 5. Because your aim is 0, your depth does not change.\n",
    "- down 5 adds 5 to your aim, resulting in a value of 5.\n",
    "- forward 8 adds 8 to your horizontal position, a total of 13. Because your aim is 5, your depth increases by 8*5=40.\n",
    "- up 3 decreases your aim by 3, resulting in a value of 2.\n",
    "- down 8 adds 8 to your aim, resulting in a value of 10.\n",
    "- forward 2 adds 2 to your horizontal position, a total of 15. Because your aim is 10, your depth increases by 2*10=20 to a total of 60.\n",
    "\n",
    "After following these new instructions, you would have a horizontal position of 15 and a depth of 60. (Multiplying these produces 900.)\n",
    "\n",
    "Using this new interpretation of the commands, calculate the horizontal position and depth you would have after following the planned course. What do you get if you multiply your final horizontal position by your final depth?"
   ]
  },
  {
   "cell_type": "code",
   "execution_count": 30,
   "id": "03648a25",
   "metadata": {},
   "outputs": [
    {
     "name": "stdout",
     "output_type": "stream",
     "text": [
      "1971095320\n"
     ]
    }
   ],
   "source": [
    "horizontal = 0\n",
    "depth = 0\n",
    "amount = 0\n",
    "aim = 0\n",
    "direction = \"\"\n",
    "\n",
    "lines = read_file(\"2021_day2.txt\")\n",
    "\n",
    "for i in lines:\n",
    "    comm = read_command(i)\n",
    "    direction = comm[0]\n",
    "    amount = int(comm[1]) \n",
    "    \n",
    "    if direction == \"forward\":\n",
    "        horizontal += amount\n",
    "        depth += aim * amount\n",
    "        \n",
    "    elif direction == \"down\":\n",
    "        aim += amount\n",
    "    else:\n",
    "        aim -= amount\n",
    "    \n",
    "print(horizontal * depth)"
   ]
  },
  {
   "cell_type": "code",
   "execution_count": null,
   "id": "aff07d0e",
   "metadata": {},
   "outputs": [],
   "source": []
  }
 ],
 "metadata": {
  "kernelspec": {
   "display_name": "Python 3",
   "language": "python",
   "name": "python3"
  },
  "language_info": {
   "codemirror_mode": {
    "name": "ipython",
    "version": 3
   },
   "file_extension": ".py",
   "mimetype": "text/x-python",
   "name": "python",
   "nbconvert_exporter": "python",
   "pygments_lexer": "ipython3",
   "version": "3.8.8"
  }
 },
 "nbformat": 4,
 "nbformat_minor": 5
}
