{
 "cells": [
  {
   "cell_type": "markdown",
   "id": "098cc60f",
   "metadata": {},
   "source": [
    "Your flight departs in a few days from the coastal airport; the easiest way down to the coast from here is via toboggan.\n",
    "\n",
    "The shopkeeper at the North Pole Toboggan Rental Shop is having a bad day. \"Something's wrong with our computers; we can't log in!\" You ask if you can take a look.\n",
    "\n",
    "Their password database seems to be a little corrupted: some of the passwords wouldn't have been allowed by the Official Toboggan Corporate Policy that was in effect when they were chosen.\n",
    "\n",
    "To try to debug the problem, they have created a list (your puzzle input) of passwords (according to the corrupted database) and the corporate policy when that password was set.\n",
    "\n",
    "For example, suppose you have the following list:\n",
    "\n",
    "- 1-3 a: abcde\n",
    "- 1-3 b: cdefg\n",
    "- 2-9 c: ccccccccc\n",
    "\n",
    "Each line gives the password policy and then the password. The password policy indicates the lowest and highest number of times a given letter must appear for the password to be valid. For example, 1-3 a means that the password must contain a at least 1 time and at most 3 times.\n",
    "\n",
    "In the above example, 2 passwords are valid. The middle password, cdefg, is not; it contains no instances of b, but needs at least 1. The first and third passwords are valid: they contain one a or nine c, both within the limits of their respective policies.\n",
    "\n",
    "How many passwords are valid according to their policies?"
   ]
  },
  {
   "cell_type": "code",
   "execution_count": 51,
   "id": "c39da5bc",
   "metadata": {},
   "outputs": [
    {
     "name": "stdout",
     "output_type": "stream",
     "text": [
      "454\n"
     ]
    }
   ],
   "source": [
    "with open(\"2020_day2.txt\") as f:\n",
    "    lines = f.readlines()\n",
    "    \n",
    "\n",
    "def get_letter(s):\n",
    "    start = s.find(\" \") + len(\" \")\n",
    "    end = s.find(\":\")\n",
    "    return s[start:end]\n",
    "     \n",
    "    \n",
    "def get_minimum(s):\n",
    "    return int(s.split(\"-\")[0])\n",
    "\n",
    "\n",
    "def get_maximum(s):\n",
    "    maximum = password.split(\"-\")[1]\n",
    "    maximum = maximum.split(\" \")[0]\n",
    "    return int(maximum)\n",
    "\n",
    "\n",
    "def get_password(s):\n",
    "    return s.split(\":\")[1]\n",
    "    \n",
    "    \n",
    "def check_amount(p, minimum, maximum, letter):\n",
    "    count = p.count(letter)\n",
    "    if  count >= minimum and count <= maximum:\n",
    "        return True\n",
    "    else:\n",
    "        return False\n",
    "    \n",
    "valid_pw = 0\n",
    "\n",
    "for s in lines:\n",
    "    password = s.strip()\n",
    "    minimum = get_minimum(s)\n",
    "    maximum = get_maximum(s)\n",
    "    letter = get_letter(s) \n",
    "    p = get_password(s)\n",
    "    \n",
    "    if check_amount(p, minimum, maximum, letter):\n",
    "        valid_pw += 1\n",
    "        \n",
    "print(valid_pw)"
   ]
  },
  {
   "cell_type": "code",
   "execution_count": null,
   "id": "b4a6bb7d",
   "metadata": {},
   "outputs": [],
   "source": []
  }
 ],
 "metadata": {
  "kernelspec": {
   "display_name": "Python 3",
   "language": "python",
   "name": "python3"
  },
  "language_info": {
   "codemirror_mode": {
    "name": "ipython",
    "version": 3
   },
   "file_extension": ".py",
   "mimetype": "text/x-python",
   "name": "python",
   "nbconvert_exporter": "python",
   "pygments_lexer": "ipython3",
   "version": "3.8.8"
  }
 },
 "nbformat": 4,
 "nbformat_minor": 5
}
